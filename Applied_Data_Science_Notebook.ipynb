{
 "cells": [
  {
   "cell_type": "markdown",
   "metadata": {},
   "source": [
    "# Battle of the Neighbourhoods"
   ]
  },
  {
   "cell_type": "markdown",
   "metadata": {},
   "source": [
    "#### References\n",
    "\n",
    "Data & The World: https://www.dataandtheworld.com/2017/06/20/scraping-wikipedia-tables-python-r/"
   ]
  },
  {
   "cell_type": "code",
   "execution_count": 2,
   "metadata": {},
   "outputs": [
    {
     "name": "stdout",
     "output_type": "stream",
     "text": [
      "Libraries loaded\n"
     ]
    }
   ],
   "source": [
    "from bs4 import BeautifulSoup\n",
    "import pandas as pd\n",
    "import requests\n",
    "\n",
    "pd.options.display.max_columns = 20\n",
    "\n",
    "print ('Libraries loaded')"
   ]
  },
  {
   "cell_type": "code",
   "execution_count": 3,
   "metadata": {},
   "outputs": [
    {
     "name": "stdout",
     "output_type": "stream",
     "text": [
      "  Postcode           Borough     Neighbourhood\\n\n",
      "0      M1A      Not assigned      Not assigned\\n\n",
      "1      M2A      Not assigned      Not assigned\\n\n",
      "2      M3A        North York         Parkwoods\\n\n",
      "3      M4A        North York  Victoria Village\\n\n",
      "4      M5A  Downtown Toronto      Harbourfront\\n\n"
     ]
    }
   ],
   "source": [
    "### Web Scrapping Wikipedia Table\n",
    "\n",
    "WIKI_PAGE = 'https://en.wikipedia.org/wiki/List_of_postal_codes_of_Canada:_M'\n",
    "\n",
    "# Grab the page HTML and get the list of rows for the table\n",
    "req = requests.get(WIKI_PAGE)\n",
    "page_html = BeautifulSoup(req.text, 'lxml')\n",
    "wiki_table = page_html.find('table', attrs = {'class':'wikitable sortable'})\n",
    "row_list = wiki_table.find_all('tr')\n",
    "\n",
    "# First row in the table is the header, so extract that separately\n",
    "header_row = row_list.pop(0)\n",
    "header_th = header_row.find_all('th')\n",
    "header = [el.text for el in header_th]\n",
    "\n",
    "table_dict = {x:[] for x in header}\n",
    "\n",
    "# Now for the rest of the table...\n",
    "for row in row_list:\n",
    "    row_td = row.find_all('td')\n",
    "    for el,td in zip(header,row_td):\n",
    "        table_dict[el].append(td.text)\n",
    "\n",
    "df = pd.DataFrame(table_dict)\n",
    "print(df.head())"
   ]
  },
  {
   "cell_type": "code",
   "execution_count": 4,
   "metadata": {},
   "outputs": [
    {
     "name": "stdout",
     "output_type": "stream",
     "text": [
      "  Postcode           Borough     Neighbourhood\n",
      "0      M1A      Not assigned      Not assigned\n",
      "1      M2A      Not assigned      Not assigned\n",
      "2      M3A        North York         Parkwoods\n",
      "3      M4A        North York  Victoria Village\n",
      "4      M5A  Downtown Toronto      Harbourfront\n"
     ]
    }
   ],
   "source": [
    "## Clean dataframe\n",
    "df['Neighbourhood\\n'] = df['Neighbourhood\\n'].str.replace('\\n','')\n",
    "\n",
    "## Replaces \\n's\n",
    "df.columns = df.columns.str.replace('\\n','')\n",
    "\n",
    "print (df.head())"
   ]
  },
  {
   "cell_type": "code",
   "execution_count": 5,
   "metadata": {},
   "outputs": [],
   "source": [
    "## Filter Not assigned Boroughs\n",
    "df2 = df[df['Borough'] != 'Not assigned']"
   ]
  },
  {
   "cell_type": "code",
   "execution_count": 6,
   "metadata": {},
   "outputs": [],
   "source": [
    "## Group Neighbourhoods with same Postal Code\n",
    "df3 = df2.groupby(['Postcode','Borough'])['Neighbourhood'].apply(', '.join).reset_index()\n",
    "\n",
    "def CheckNeihgborhood(x):\n",
    "    if x['Neighbourhood'] == 'Not assigned':\n",
    "        x['Neighbourhood'] = x['Borough']\n",
    "    else:\n",
    "        x['Neighbourhood']\n",
    "    return x['Neighbourhood']\n",
    "\n",
    "## Assign Neighbourhood = Borough if Neighbourhood have Not assigned labels\n",
    "df3['Neighbourhood'] = df3.apply(CheckNeihgborhood, axis=1)"
   ]
  },
  {
   "cell_type": "code",
   "execution_count": 10,
   "metadata": {},
   "outputs": [
    {
     "name": "stdout",
     "output_type": "stream",
     "text": [
      "  Postcode      Borough                           Neighbourhood\n",
      "0      M1B  Scarborough                          Rouge, Malvern\n",
      "1      M1C  Scarborough  Highland Creek, Rouge Hill, Port Union\n",
      "2      M1E  Scarborough       Guildwood, Morningside, West Hill\n",
      "3      M1G  Scarborough                                  Woburn\n",
      "4      M1H  Scarborough                               Cedarbrae\n",
      "(103, 3)\n"
     ]
    }
   ],
   "source": [
    "print (df3.head())\n",
    "print (df3.shape)"
   ]
  },
  {
   "cell_type": "code",
   "execution_count": null,
   "metadata": {},
   "outputs": [],
   "source": [
    "### Add lattitde and longitude\n",
    "import geocoder # import geocoder\n",
    "\n",
    "# initialize your variable to None\n",
    "lat_lng_coords = None\n",
    "\n",
    "# loop until you get the coordinates\n",
    "while(lat_lng_coords is None):\n",
    "  g = geocoder.google('{}, Toronto, Ontario'.format(df3['Postcode'].values.tolist()))\n",
    "  lat_lng_coords = g.latlng\n",
    "\n",
    "latitude = lat_lng_coords[0]\n",
    "longitude = lat_lng_coords[1]\n"
   ]
  },
  {
   "cell_type": "code",
   "execution_count": null,
   "metadata": {},
   "outputs": [],
   "source": [
    "lat_lng_coords"
   ]
  },
  {
   "cell_type": "code",
   "execution_count": null,
   "metadata": {},
   "outputs": [],
   "source": []
  }
 ],
 "metadata": {
  "kernelspec": {
   "display_name": "Python 3",
   "language": "python",
   "name": "python3"
  },
  "language_info": {
   "codemirror_mode": {
    "name": "ipython",
    "version": 3
   },
   "file_extension": ".py",
   "mimetype": "text/x-python",
   "name": "python",
   "nbconvert_exporter": "python",
   "pygments_lexer": "ipython3",
   "version": "3.6.5"
  }
 },
 "nbformat": 4,
 "nbformat_minor": 2
}
